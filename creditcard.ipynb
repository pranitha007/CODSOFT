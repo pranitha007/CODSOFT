{
  "nbformat": 4,
  "nbformat_minor": 0,
  "metadata": {
    "colab": {
      "provenance": []
    },
    "kernelspec": {
      "name": "python3",
      "display_name": "Python 3"
    },
    "language_info": {
      "name": "python"
    }
  },
  "cells": [
    {
      "cell_type": "code",
      "source": [
        "import pandas as pd\n",
        "\n",
        "# Load the dataset (assuming it's in a CSV file named 'creditcard.csv')\n",
        "url = \"https://www.kaggle.com/mlg-ulb/creditcardfraud/download\"\n",
        "df = pd.read_csv('/content/creditcard.csv')\n",
        "\n",
        "# Display basic information about the dataset\n",
        "print(df.info())\n",
        "print(df.describe())\n",
        "print(df.head())\n"
      ],
      "metadata": {
        "colab": {
          "base_uri": "https://localhost:8080/"
        },
        "id": "uUlJ6-EObiVI",
        "outputId": "71b22e7c-fd1e-4209-b952-62386cab19b5"
      },
      "execution_count": null,
      "outputs": [
        {
          "output_type": "stream",
          "name": "stdout",
          "text": [
            "<class 'pandas.core.frame.DataFrame'>\n",
            "RangeIndex: 39702 entries, 0 to 39701\n",
            "Data columns (total 31 columns):\n",
            " #   Column  Non-Null Count  Dtype  \n",
            "---  ------  --------------  -----  \n",
            " 0   Time    39702 non-null  int64  \n",
            " 1   V1      39702 non-null  float64\n",
            " 2   V2      39702 non-null  float64\n",
            " 3   V3      39702 non-null  float64\n",
            " 4   V4      39702 non-null  float64\n",
            " 5   V5      39702 non-null  float64\n",
            " 6   V6      39702 non-null  float64\n",
            " 7   V7      39702 non-null  float64\n",
            " 8   V8      39702 non-null  float64\n",
            " 9   V9      39702 non-null  float64\n",
            " 10  V10     39702 non-null  float64\n",
            " 11  V11     39702 non-null  float64\n",
            " 12  V12     39702 non-null  float64\n",
            " 13  V13     39701 non-null  float64\n",
            " 14  V14     39701 non-null  float64\n",
            " 15  V15     39701 non-null  float64\n",
            " 16  V16     39701 non-null  float64\n",
            " 17  V17     39701 non-null  float64\n",
            " 18  V18     39701 non-null  float64\n",
            " 19  V19     39701 non-null  float64\n",
            " 20  V20     39701 non-null  float64\n",
            " 21  V21     39701 non-null  float64\n",
            " 22  V22     39701 non-null  float64\n",
            " 23  V23     39701 non-null  float64\n",
            " 24  V24     39701 non-null  float64\n",
            " 25  V25     39701 non-null  float64\n",
            " 26  V26     39701 non-null  float64\n",
            " 27  V27     39701 non-null  float64\n",
            " 28  V28     39701 non-null  float64\n",
            " 29  Amount  39701 non-null  float64\n",
            " 30  Class   39701 non-null  float64\n",
            "dtypes: float64(30), int64(1)\n",
            "memory usage: 9.4 MB\n",
            "None\n",
            "               Time            V1            V2            V3            V4  \\\n",
            "count  39702.000000  39702.000000  39702.000000  39702.000000  39702.000000   \n",
            "mean   25502.432497     -0.213932      0.051942      0.713780      0.189431   \n",
            "std    12626.308343      1.831757      1.548373      1.506728      1.399784   \n",
            "min        0.000000    -30.552380    -40.978852    -31.103685     -5.172595   \n",
            "25%    14678.500000     -0.967117     -0.525207      0.233522     -0.717668   \n",
            "50%    30598.500000     -0.233669      0.101393      0.818163      0.185015   \n",
            "75%    35625.000000      1.160708      0.743741      1.447844      1.071347   \n",
            "max    39929.000000      1.960497     16.713389      4.101716     13.143668   \n",
            "\n",
            "                 V5            V6            V7            V8            V9  \\\n",
            "count  39702.000000  39702.000000  39702.000000  39702.000000  39702.000000   \n",
            "mean      -0.231083      0.100915     -0.112981      0.041731      0.214179   \n",
            "std        1.379431      1.304722      1.244260      1.222742      1.225147   \n",
            "min      -42.147898    -23.496714    -26.548144    -41.484823     -7.175097   \n",
            "25%       -0.835646     -0.638647     -0.597725     -0.152448     -0.555904   \n",
            "50%       -0.267851     -0.158696     -0.073409      0.048385      0.091864   \n",
            "75%        0.297049      0.487010      0.433877      0.314947      0.930712   \n",
            "max       34.099309     22.529298     36.677268     20.007208     10.392889   \n",
            "\n",
            "       ...           V21           V22           V23           V24  \\\n",
            "count  ...  39701.000000  39701.000000  39701.000000  39701.000000   \n",
            "mean   ...     -0.029662     -0.112320     -0.040265      0.007226   \n",
            "std    ...      0.750969      0.638109      0.551644      0.593281   \n",
            "min    ...    -20.262054     -8.593642    -26.751119     -2.836627   \n",
            "25%    ...     -0.236834     -0.534709     -0.178626     -0.325662   \n",
            "50%    ...     -0.077298     -0.086811     -0.051646      0.060796   \n",
            "75%    ...      0.100244      0.299013      0.076971      0.399378   \n",
            "max    ...     22.614889      5.805795     17.297845      4.014444   \n",
            "\n",
            "                V25           V26           V27           V28        Amount  \\\n",
            "count  39701.000000  39701.000000  39701.000000  39701.000000  39701.000000   \n",
            "mean       0.136322      0.023181      0.008097      0.004171     87.445979   \n",
            "std        0.435481      0.504830      0.385255      0.298453    234.567447   \n",
            "min       -7.495741     -1.438650     -8.567638     -9.617915      0.000000   \n",
            "25%       -0.128065     -0.330371     -0.063315     -0.006938      7.300000   \n",
            "50%        0.176097     -0.063305      0.008394      0.021454     23.430000   \n",
            "75%        0.421048      0.304110      0.085116      0.075965     79.000000   \n",
            "max        5.525093      3.517346     11.135740      5.678671   7879.420000   \n",
            "\n",
            "              Class  \n",
            "count  39701.000000  \n",
            "mean       0.002620  \n",
            "std        0.051115  \n",
            "min        0.000000  \n",
            "25%        0.000000  \n",
            "50%        0.000000  \n",
            "75%        0.000000  \n",
            "max        1.000000  \n",
            "\n",
            "[8 rows x 31 columns]\n",
            "   Time        V1        V2        V3        V4        V5        V6        V7  \\\n",
            "0     0 -1.359807 -0.072781  2.536347  1.378155 -0.338321  0.462388  0.239599   \n",
            "1     0  1.191857  0.266151  0.166480  0.448154  0.060018 -0.082361 -0.078803   \n",
            "2     1 -1.358354 -1.340163  1.773209  0.379780 -0.503198  1.800499  0.791461   \n",
            "3     1 -0.966272 -0.185226  1.792993 -0.863291 -0.010309  1.247203  0.237609   \n",
            "4     2 -1.158233  0.877737  1.548718  0.403034 -0.407193  0.095921  0.592941   \n",
            "\n",
            "         V8        V9  ...       V21       V22       V23       V24       V25  \\\n",
            "0  0.098698  0.363787  ... -0.018307  0.277838 -0.110474  0.066928  0.128539   \n",
            "1  0.085102 -0.255425  ... -0.225775 -0.638672  0.101288 -0.339846  0.167170   \n",
            "2  0.247676 -1.514654  ...  0.247998  0.771679  0.909412 -0.689281 -0.327642   \n",
            "3  0.377436 -1.387024  ... -0.108300  0.005274 -0.190321 -1.175575  0.647376   \n",
            "4 -0.270533  0.817739  ... -0.009431  0.798278 -0.137458  0.141267 -0.206010   \n",
            "\n",
            "        V26       V27       V28  Amount  Class  \n",
            "0 -0.189115  0.133558 -0.021053  149.62    0.0  \n",
            "1  0.125895 -0.008983  0.014724    2.69    0.0  \n",
            "2 -0.139097 -0.055353 -0.059752  378.66    0.0  \n",
            "3 -0.221929  0.062723  0.061458  123.50    0.0  \n",
            "4  0.502292  0.219422  0.215153   69.99    0.0  \n",
            "\n",
            "[5 rows x 31 columns]\n"
          ]
        }
      ]
    },
    {
      "cell_type": "code",
      "source": [
        "from sklearn.preprocessing import StandardScaler\n",
        "\n",
        "scaler = StandardScaler()\n",
        "df['Amount'] = scaler.fit_transform(df['Amount'].values.reshape(-1, 1))\n",
        "\n",
        "df = df.drop(['Time'], axis=1)\n",
        "\n",
        "print(df.isnull().sum())\n"
      ],
      "metadata": {
        "colab": {
          "base_uri": "https://localhost:8080/"
        },
        "id": "sdVSwo0Xd1_3",
        "outputId": "d8337b2e-6a57-428a-b26d-90944680da43"
      },
      "execution_count": null,
      "outputs": [
        {
          "output_type": "stream",
          "name": "stdout",
          "text": [
            "V1        0\n",
            "V2        0\n",
            "V3        0\n",
            "V4        0\n",
            "V5        0\n",
            "V6        0\n",
            "V7        0\n",
            "V8        0\n",
            "V9        0\n",
            "V10       0\n",
            "V11       0\n",
            "V12       0\n",
            "V13       1\n",
            "V14       1\n",
            "V15       1\n",
            "V16       1\n",
            "V17       1\n",
            "V18       1\n",
            "V19       1\n",
            "V20       1\n",
            "V21       1\n",
            "V22       1\n",
            "V23       1\n",
            "V24       1\n",
            "V25       1\n",
            "V26       1\n",
            "V27       1\n",
            "V28       1\n",
            "Amount    1\n",
            "Class     1\n",
            "dtype: int64\n"
          ]
        }
      ]
    },
    {
      "cell_type": "code",
      "source": [
        "from imblearn.over_sampling import SMOTE\n",
        "\n",
        "# Separate features and target variable\n",
        "X = df.drop('Class', axis=1)\n",
        "y = df['Class']\n",
        "\n",
        "# Handle potential missing values in the target variable (y)\n",
        "y = y.dropna() # Drop rows with NaN in 'Class'\n",
        "\n",
        "# Filter X to match the indices of non-NaN y values\n",
        "X = X.loc[y.index]\n",
        "\n",
        "# Apply SMOTE to balance the dataset\n",
        "sm = SMOTE(random_state=42)\n",
        "X_res, y_res = sm.fit_resample(X, y)\n",
        "\n",
        "print(f\"Original dataset shape: {y.value_counts()}\")\n",
        "print(f\"Resampled dataset shape: {y_res.value_counts()}\")"
      ],
      "metadata": {
        "colab": {
          "base_uri": "https://localhost:8080/"
        },
        "id": "j3MzQKXpd9zD",
        "outputId": "72379fba-f6be-4883-f465-c16a8c3618ba"
      },
      "execution_count": null,
      "outputs": [
        {
          "output_type": "stream",
          "name": "stdout",
          "text": [
            "Original dataset shape: Class\n",
            "0.0    39597\n",
            "1.0      104\n",
            "Name: count, dtype: int64\n",
            "Resampled dataset shape: Class\n",
            "0.0    39597\n",
            "1.0    39597\n",
            "Name: count, dtype: int64\n"
          ]
        }
      ]
    },
    {
      "cell_type": "code",
      "source": [
        "from sklearn.model_selection import train_test_split\n",
        "\n",
        "# Splitting the dataset\n",
        "X_train, X_test, y_train, y_test = train_test_split(X_res, y_res, test_size=0.2, random_state=42)\n",
        "\n",
        "print(f\"Training set shape: {X_train.shape}, {y_train.shape}\")\n",
        "print(f\"Testing set shape: {X_test.shape}, {y_test.shape}\")\n"
      ],
      "metadata": {
        "colab": {
          "base_uri": "https://localhost:8080/"
        },
        "id": "3-bVH0zfd2Bd",
        "outputId": "d3c1e3f1-7501-4deb-a59d-441f9574a82a"
      },
      "execution_count": null,
      "outputs": [
        {
          "output_type": "stream",
          "name": "stdout",
          "text": [
            "Training set shape: (63355, 29), (63355,)\n",
            "Testing set shape: (15839, 29), (15839,)\n"
          ]
        }
      ]
    },
    {
      "cell_type": "code",
      "source": [
        "from sklearn.ensemble import RandomForestClassifier\n",
        "\n",
        "# Training the Random Forest model\n",
        "clf = RandomForestClassifier(random_state=42)\n",
        "clf.fit(X_train, y_train)\n"
      ],
      "metadata": {
        "colab": {
          "base_uri": "https://localhost:8080/",
          "height": 74
        },
        "id": "MEULAaZtePg3",
        "outputId": "5e8c81dc-f533-486b-f6c5-4351976aa114"
      },
      "execution_count": null,
      "outputs": [
        {
          "output_type": "execute_result",
          "data": {
            "text/plain": [
              "RandomForestClassifier(random_state=42)"
            ],
            "text/html": [
              "<style>#sk-container-id-1 {color: black;background-color: white;}#sk-container-id-1 pre{padding: 0;}#sk-container-id-1 div.sk-toggleable {background-color: white;}#sk-container-id-1 label.sk-toggleable__label {cursor: pointer;display: block;width: 100%;margin-bottom: 0;padding: 0.3em;box-sizing: border-box;text-align: center;}#sk-container-id-1 label.sk-toggleable__label-arrow:before {content: \"▸\";float: left;margin-right: 0.25em;color: #696969;}#sk-container-id-1 label.sk-toggleable__label-arrow:hover:before {color: black;}#sk-container-id-1 div.sk-estimator:hover label.sk-toggleable__label-arrow:before {color: black;}#sk-container-id-1 div.sk-toggleable__content {max-height: 0;max-width: 0;overflow: hidden;text-align: left;background-color: #f0f8ff;}#sk-container-id-1 div.sk-toggleable__content pre {margin: 0.2em;color: black;border-radius: 0.25em;background-color: #f0f8ff;}#sk-container-id-1 input.sk-toggleable__control:checked~div.sk-toggleable__content {max-height: 200px;max-width: 100%;overflow: auto;}#sk-container-id-1 input.sk-toggleable__control:checked~label.sk-toggleable__label-arrow:before {content: \"▾\";}#sk-container-id-1 div.sk-estimator input.sk-toggleable__control:checked~label.sk-toggleable__label {background-color: #d4ebff;}#sk-container-id-1 div.sk-label input.sk-toggleable__control:checked~label.sk-toggleable__label {background-color: #d4ebff;}#sk-container-id-1 input.sk-hidden--visually {border: 0;clip: rect(1px 1px 1px 1px);clip: rect(1px, 1px, 1px, 1px);height: 1px;margin: -1px;overflow: hidden;padding: 0;position: absolute;width: 1px;}#sk-container-id-1 div.sk-estimator {font-family: monospace;background-color: #f0f8ff;border: 1px dotted black;border-radius: 0.25em;box-sizing: border-box;margin-bottom: 0.5em;}#sk-container-id-1 div.sk-estimator:hover {background-color: #d4ebff;}#sk-container-id-1 div.sk-parallel-item::after {content: \"\";width: 100%;border-bottom: 1px solid gray;flex-grow: 1;}#sk-container-id-1 div.sk-label:hover label.sk-toggleable__label {background-color: #d4ebff;}#sk-container-id-1 div.sk-serial::before {content: \"\";position: absolute;border-left: 1px solid gray;box-sizing: border-box;top: 0;bottom: 0;left: 50%;z-index: 0;}#sk-container-id-1 div.sk-serial {display: flex;flex-direction: column;align-items: center;background-color: white;padding-right: 0.2em;padding-left: 0.2em;position: relative;}#sk-container-id-1 div.sk-item {position: relative;z-index: 1;}#sk-container-id-1 div.sk-parallel {display: flex;align-items: stretch;justify-content: center;background-color: white;position: relative;}#sk-container-id-1 div.sk-item::before, #sk-container-id-1 div.sk-parallel-item::before {content: \"\";position: absolute;border-left: 1px solid gray;box-sizing: border-box;top: 0;bottom: 0;left: 50%;z-index: -1;}#sk-container-id-1 div.sk-parallel-item {display: flex;flex-direction: column;z-index: 1;position: relative;background-color: white;}#sk-container-id-1 div.sk-parallel-item:first-child::after {align-self: flex-end;width: 50%;}#sk-container-id-1 div.sk-parallel-item:last-child::after {align-self: flex-start;width: 50%;}#sk-container-id-1 div.sk-parallel-item:only-child::after {width: 0;}#sk-container-id-1 div.sk-dashed-wrapped {border: 1px dashed gray;margin: 0 0.4em 0.5em 0.4em;box-sizing: border-box;padding-bottom: 0.4em;background-color: white;}#sk-container-id-1 div.sk-label label {font-family: monospace;font-weight: bold;display: inline-block;line-height: 1.2em;}#sk-container-id-1 div.sk-label-container {text-align: center;}#sk-container-id-1 div.sk-container {/* jupyter's `normalize.less` sets `[hidden] { display: none; }` but bootstrap.min.css set `[hidden] { display: none !important; }` so we also need the `!important` here to be able to override the default hidden behavior on the sphinx rendered scikit-learn.org. See: https://github.com/scikit-learn/scikit-learn/issues/21755 */display: inline-block !important;position: relative;}#sk-container-id-1 div.sk-text-repr-fallback {display: none;}</style><div id=\"sk-container-id-1\" class=\"sk-top-container\"><div class=\"sk-text-repr-fallback\"><pre>RandomForestClassifier(random_state=42)</pre><b>In a Jupyter environment, please rerun this cell to show the HTML representation or trust the notebook. <br />On GitHub, the HTML representation is unable to render, please try loading this page with nbviewer.org.</b></div><div class=\"sk-container\" hidden><div class=\"sk-item\"><div class=\"sk-estimator sk-toggleable\"><input class=\"sk-toggleable__control sk-hidden--visually\" id=\"sk-estimator-id-1\" type=\"checkbox\" checked><label for=\"sk-estimator-id-1\" class=\"sk-toggleable__label sk-toggleable__label-arrow\">RandomForestClassifier</label><div class=\"sk-toggleable__content\"><pre>RandomForestClassifier(random_state=42)</pre></div></div></div></div></div>"
            ]
          },
          "metadata": {},
          "execution_count": 7
        }
      ]
    },
    {
      "cell_type": "code",
      "source": [
        "from sklearn.metrics import classification_report, confusion_matrix\n",
        "\n",
        "# Predictions on the test set\n",
        "y_pred = clf.predict(X_test)\n",
        "\n",
        "# Evaluate the model\n",
        "print(confusion_matrix(y_test, y_pred))\n",
        "print(classification_report(y_test, y_pred))\n"
      ],
      "metadata": {
        "colab": {
          "base_uri": "https://localhost:8080/"
        },
        "id": "fX1AyESyeeDX",
        "outputId": "ac4432a5-6eb5-431e-8a95-a87bb373d4ff"
      },
      "execution_count": null,
      "outputs": [
        {
          "output_type": "stream",
          "name": "stdout",
          "text": [
            "[[7926    1]\n",
            " [   0 7912]]\n",
            "              precision    recall  f1-score   support\n",
            "\n",
            "         0.0       1.00      1.00      1.00      7927\n",
            "         1.0       1.00      1.00      1.00      7912\n",
            "\n",
            "    accuracy                           1.00     15839\n",
            "   macro avg       1.00      1.00      1.00     15839\n",
            "weighted avg       1.00      1.00      1.00     15839\n",
            "\n"
          ]
        }
      ]
    },
    {
      "cell_type": "code",
      "source": [],
      "metadata": {
        "id": "0CGvR_ueeiUj"
      },
      "execution_count": null,
      "outputs": []
    }
  ]
}